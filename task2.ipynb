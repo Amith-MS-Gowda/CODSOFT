{
 "cells": [
  {
   "cell_type": "code",
   "execution_count": 4,
   "id": "0ffc30d5-c818-4e3e-89df-9e396b2812c2",
   "metadata": {},
   "outputs": [
    {
     "name": "stdout",
     "output_type": "stream",
     "text": [
      "Welcome to Tic-Tac-Toe!\n",
      "You are X, and AI is O.\n",
      " | | \n",
      "-----\n",
      " | | \n",
      "-----\n",
      " | | \n",
      "-----\n"
     ]
    },
    {
     "name": "stdin",
     "output_type": "stream",
     "text": [
      "Enter the row (0, 1, 2):  0\n",
      "Enter the column (0, 1, 2):  1\n"
     ]
    },
    {
     "name": "stdout",
     "output_type": "stream",
     "text": [
      "O|X| \n",
      "-----\n",
      " | | \n",
      "-----\n",
      " | | \n",
      "-----\n"
     ]
    },
    {
     "name": "stdin",
     "output_type": "stream",
     "text": [
      "Enter the row (0, 1, 2):  1\n",
      "Enter the column (0, 1, 2):  1\n"
     ]
    },
    {
     "name": "stdout",
     "output_type": "stream",
     "text": [
      "O|X| \n",
      "-----\n",
      " |X| \n",
      "-----\n",
      " |O| \n",
      "-----\n"
     ]
    },
    {
     "name": "stdin",
     "output_type": "stream",
     "text": [
      "Enter the row (0, 1, 2):  1\n",
      "Enter the column (0, 1, 2):  1\n"
     ]
    },
    {
     "name": "stdout",
     "output_type": "stream",
     "text": [
      "Cell already taken. Try again.\n",
      "O|X| \n",
      "-----\n",
      " |X| \n",
      "-----\n",
      " |O| \n",
      "-----\n"
     ]
    },
    {
     "name": "stdin",
     "output_type": "stream",
     "text": [
      "Enter the row (0, 1, 2):  1\n",
      "Enter the column (0, 1, 2):  2\n"
     ]
    },
    {
     "name": "stdout",
     "output_type": "stream",
     "text": [
      "O|X| \n",
      "-----\n",
      "O|X|X\n",
      "-----\n",
      " |O| \n",
      "-----\n"
     ]
    },
    {
     "name": "stdin",
     "output_type": "stream",
     "text": [
      "Enter the row (0, 1, 2):  2\n",
      "Enter the column (0, 1, 2):  2\n"
     ]
    },
    {
     "name": "stdout",
     "output_type": "stream",
     "text": [
      "O|X| \n",
      "-----\n",
      "O|X|X\n",
      "-----\n",
      "O|O|X\n",
      "-----\n",
      "AI wins! Better luck next time.\n"
     ]
    }
   ],
   "source": [
    "import math\n",
    "\n",
    "# Function to print the Tic-Tac-Toe board\n",
    "def print_board(board):\n",
    "    for row in board:\n",
    "        print(\"|\".join(row))\n",
    "        print(\"-\" * 5)\n",
    "\n",
    "# Check if there's a winner\n",
    "def check_winner(board, player):\n",
    "    # Check rows, columns, and diagonals for a win\n",
    "    for row in board:\n",
    "        if all([s == player for s in row]):\n",
    "            return True\n",
    "    for col in range(3):\n",
    "        if all([board[row][col] == player for row in range(3)]):\n",
    "            return True\n",
    "    if all([board[i][i] == player for i in range(3)]) or all([board[i][2 - i] == player for i in range(3)]):\n",
    "        return True\n",
    "    return False\n",
    "\n",
    "# Check if the board is full\n",
    "def is_board_full(board):\n",
    "    return all([cell != ' ' for row in board for cell in row])\n",
    "\n",
    "# Minimax function\n",
    "def minimax(board, depth, is_maximizing, alpha=-math.inf, beta=math.inf):\n",
    "    # Check for terminal states\n",
    "    if check_winner(board, 'O'):  # AI wins\n",
    "        return 1\n",
    "    if check_winner(board, 'X'):  # Human wins\n",
    "        return -1\n",
    "    if is_board_full(board):  # Draw\n",
    "        return 0\n",
    "\n",
    "    if is_maximizing:\n",
    "        best_score = -math.inf\n",
    "        for i in range(3):\n",
    "            for j in range(3):\n",
    "                if board[i][j] == ' ':\n",
    "                    board[i][j] = 'O'\n",
    "                    score = minimax(board, depth + 1, False, alpha, beta)\n",
    "                    board[i][j] = ' '\n",
    "                    best_score = max(score, best_score)\n",
    "                    alpha = max(alpha, best_score)\n",
    "                    if beta <= alpha:  # Alpha-Beta Pruning\n",
    "                        break\n",
    "        return best_score\n",
    "    else:\n",
    "        best_score = math.inf\n",
    "        for i in range(3):\n",
    "            for j in range(3):\n",
    "                if board[i][j] == ' ':\n",
    "                    board[i][j] = 'X'\n",
    "                    score = minimax(board, depth + 1, True, alpha, beta)\n",
    "                    board[i][j] = ' '\n",
    "                    best_score = min(score, best_score)\n",
    "                    beta = min(beta, best_score)\n",
    "                    if beta <= alpha:  # Alpha-Beta Pruning\n",
    "                        break\n",
    "        return best_score\n",
    "\n",
    "# Function to find the best move for the AI\n",
    "def best_move(board):\n",
    "    best_score = -math.inf\n",
    "    move = None\n",
    "    for i in range(3):\n",
    "        for j in range(3):\n",
    "            if board[i][j] == ' ':\n",
    "                board[i][j] = 'O'  # AI is 'O'\n",
    "                score = minimax(board, 0, False)\n",
    "                board[i][j] = ' '\n",
    "                if score > best_score:\n",
    "                    best_score = score\n",
    "                    move = (i, j)\n",
    "    return move\n",
    "\n",
    "# Main function to play the game\n",
    "def play_game():\n",
    "    board = [[' ' for _ in range(3)] for _ in range(3)]\n",
    "    \n",
    "    print(\"Welcome to Tic-Tac-Toe!\")\n",
    "    print(\"You are X, and AI is O.\")\n",
    "    \n",
    "    while True:\n",
    "        print_board(board)\n",
    "\n",
    "        # Human player's turn\n",
    "        row = int(input(\"Enter the row (0, 1, 2): \"))\n",
    "        col = int(input(\"Enter the column (0, 1, 2): \"))\n",
    "        if board[row][col] == ' ':\n",
    "            board[row][col] = 'X'\n",
    "        else:\n",
    "            print(\"Cell already taken. Try again.\")\n",
    "            continue\n",
    "\n",
    "        # Check if the human won\n",
    "        if check_winner(board, 'X'):\n",
    "            print_board(board)\n",
    "            print(\"Congratulations! You win!\")\n",
    "            break\n",
    "\n",
    "        # Check if the board is full (draw)\n",
    "        if is_board_full(board):\n",
    "            print_board(board)\n",
    "            print(\"It's a draw!\")\n",
    "            break\n",
    "\n",
    "        # AI's turn\n",
    "        move = best_move(board)\n",
    "        if move:\n",
    "            board[move[0]][move[1]] = 'O'\n",
    "        \n",
    "        # Check if AI won\n",
    "        if check_winner(board, 'O'):\n",
    "            print_board(board)\n",
    "            print(\"AI wins! Better luck next time.\")\n",
    "            break\n",
    "\n",
    "        # Check if the board is full (draw)\n",
    "        if is_board_full(board):\n",
    "            print_board(board)\n",
    "            print(\"It's a draw!\")\n",
    "            break\n",
    "\n",
    "# Start the game\n",
    "play_game()\n"
   ]
  },
  {
   "cell_type": "code",
   "execution_count": null,
   "id": "08d775d7-8187-4853-89c9-4fb791382229",
   "metadata": {},
   "outputs": [],
   "source": []
  }
 ],
 "metadata": {
  "kernelspec": {
   "display_name": "Python 3 (ipykernel)",
   "language": "python",
   "name": "python3"
  },
  "language_info": {
   "codemirror_mode": {
    "name": "ipython",
    "version": 3
   },
   "file_extension": ".py",
   "mimetype": "text/x-python",
   "name": "python",
   "nbconvert_exporter": "python",
   "pygments_lexer": "ipython3",
   "version": "3.11.5"
  }
 },
 "nbformat": 4,
 "nbformat_minor": 5
}
