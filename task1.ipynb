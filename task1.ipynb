{
 "cells": [
  {
   "cell_type": "code",
   "execution_count": 2,
   "id": "340eef1a-e716-4446-98ae-adf2c882442b",
   "metadata": {},
   "outputs": [
    {
     "name": "stdout",
     "output_type": "stream",
     "text": [
      "Chatbot: Hello! You can start chatting with me.\n"
     ]
    },
    {
     "name": "stdin",
     "output_type": "stream",
     "text": [
      "You:  how are you\n"
     ]
    },
    {
     "name": "stdout",
     "output_type": "stream",
     "text": [
      "Chatbot: I'm just a bot, but I'm functioning as expected! How about you?\n"
     ]
    },
    {
     "name": "stdin",
     "output_type": "stream",
     "text": [
      "You:  name\n"
     ]
    },
    {
     "name": "stdout",
     "output_type": "stream",
     "text": [
      "Chatbot: I'm sorry, I don't understand that. Can you please rephrase?\n"
     ]
    },
    {
     "name": "stdin",
     "output_type": "stream",
     "text": [
      "You:  your name\n"
     ]
    },
    {
     "name": "stdout",
     "output_type": "stream",
     "text": [
      "Chatbot: I'm your friendly rule-based chatbot. What can I help you with?\n"
     ]
    },
    {
     "name": "stdin",
     "output_type": "stream",
     "text": [
      "You:  bye\n"
     ]
    },
    {
     "name": "stdout",
     "output_type": "stream",
     "text": [
      "Chatbot: Goodbye! Have a great day!\n"
     ]
    }
   ],
   "source": [
    "# Function to process user input and provide a response\n",
    "def chatbot_response(user_input):\n",
    "    user_input = user_input.lower()  # Make input case-insensitive\n",
    "    \n",
    "    if \"hello\" in user_input or \"hi\" in user_input:\n",
    "        return \"Hello! How can I assist you today?\"\n",
    "    elif \"how are you\" in user_input:\n",
    "        return \"I'm just a bot, but I'm functioning as expected! How about you?\"\n",
    "    elif \"your name\" in user_input:\n",
    "        return \"I'm your friendly rule-based chatbot. What can I help you with?\"\n",
    "    elif \"time\" in user_input:\n",
    "        from datetime import datetime\n",
    "        current_time = datetime.now().strftime('%H:%M:%S')\n",
    "        return f\"The current time is {current_time}.\"\n",
    "    elif \"bye\" in user_input:\n",
    "        return \"Goodbye! Have a great day!\"\n",
    "    else:\n",
    "        return \"I'm sorry, I don't understand that. Can you please rephrase?\"\n",
    "\n",
    "# Start a conversation loop\n",
    "print(\"Chatbot: Hello! You can start chatting with me.\")\n",
    "while True:\n",
    "    user_input = input(\"You: \")\n",
    "    \n",
    "    # Exit if the user says 'bye'\n",
    "    if \"bye\" in user_input.lower():\n",
    "        print(\"Chatbot: Goodbye! Have a great day!\")\n",
    "        break\n",
    "    \n",
    "    # Get chatbot response\n",
    "    response = chatbot_response(user_input)\n",
    "    print(f\"Chatbot: {response}\")\n"
   ]
  },
  {
   "cell_type": "code",
   "execution_count": null,
   "id": "b03a6a7d-4619-4bc5-b92b-86160a9cd2ff",
   "metadata": {},
   "outputs": [],
   "source": []
  }
 ],
 "metadata": {
  "kernelspec": {
   "display_name": "Python 3 (ipykernel)",
   "language": "python",
   "name": "python3"
  },
  "language_info": {
   "codemirror_mode": {
    "name": "ipython",
    "version": 3
   },
   "file_extension": ".py",
   "mimetype": "text/x-python",
   "name": "python",
   "nbconvert_exporter": "python",
   "pygments_lexer": "ipython3",
   "version": "3.11.5"
  }
 },
 "nbformat": 4,
 "nbformat_minor": 5
}
